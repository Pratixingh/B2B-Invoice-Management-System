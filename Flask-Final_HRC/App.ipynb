{
 "cells": [
  {
   "cell_type": "code",
   "execution_count": null,
   "id": "8f785c3f",
   "metadata": {},
   "outputs": [],
   "source": [
    "from flask import Flask, jsonify, request\n",
    "from flask_cors import CORS, cross_origin\n",
    "import Smartmodel\n",
    "import mysql.connector\n",
    "\n",
    "app = Flask(__name__)\n",
    "cors = CORS(app)\n",
    "app.config['CORS_HEADERS'] = 'application/json'\n",
    "\n",
    "# Establish a database connection\n",
    "db = mysql.connector.connect(\n",
    "    host='localhost',\n",
    "    user='root',\n",
    "    password='pratik',\n",
    "    database='h2h'\n",
    ")\n",
    "\n",
    "@app.route(\"/predict\", methods=[\"GET\", \"POST\"])  # Allow both GET and POST methods\n",
    "@cross_origin(supports_credentials=True)\n",
    "def predictOap():\n",
    "    if request.method == 'POST':\n",
    "        data = request.get_json()\n",
    "        print(data)\n",
    "\n",
    "        # Fetch data from the database\n",
    "        cursor = db.cursor()\n",
    "        cursor.execute(\"SELECT * FROM your_table LIMIT 5\")\n",
    "        result = cursor.fetchall()\n",
    "        cursor.close()\n",
    "\n",
    "        # Process the fetched data\n",
    "        # You can perform any necessary transformations or calculations here\n",
    "\n",
    "        return jsonify(Smartmodel.predict(data).tolist())\n",
    "    else:\n",
    "        return \"This endpoint only accepts POST requests.\"\n",
    "\n",
    "if __name__ == '__main__':\n",
    "    app.run(debug=True, use_reloader=False)\n"
   ]
  },
  {
   "cell_type": "code",
   "execution_count": 2,
   "id": "5b787594",
   "metadata": {},
   "outputs": [
    {
     "name": "stdout",
     "output_type": "stream",
     "text": [
      "Collecting mysql-connector-python\n",
      "  Downloading mysql_connector_python-8.0.33-cp39-cp39-win_amd64.whl (9.6 MB)\n",
      "     ---------------------------------------- 9.6/9.6 MB 3.8 MB/s eta 0:00:00\n",
      "Collecting protobuf<=3.20.3,>=3.11.0\n",
      "  Downloading protobuf-3.20.3-cp39-cp39-win_amd64.whl (904 kB)\n",
      "     -------------------------------------- 904.2/904.2 kB 5.2 MB/s eta 0:00:00\n",
      "Installing collected packages: protobuf, mysql-connector-python\n",
      "Successfully installed mysql-connector-python-8.0.33 protobuf-3.20.3\n",
      "Note: you may need to restart the kernel to use updated packages.\n"
     ]
    }
   ],
   "source": [
    "pip install mysql-connector-python\n"
   ]
  },
  {
   "cell_type": "code",
   "execution_count": null,
   "id": "82e6087f",
   "metadata": {},
   "outputs": [],
   "source": [
    "pip install Flask-Cors"
   ]
  }
 ],
 "metadata": {
  "kernelspec": {
   "display_name": "Python 3 (ipykernel)",
   "language": "python",
   "name": "python3"
  },
  "language_info": {
   "codemirror_mode": {
    "name": "ipython",
    "version": 3
   },
   "file_extension": ".py",
   "mimetype": "text/x-python",
   "name": "python",
   "nbconvert_exporter": "python",
   "pygments_lexer": "ipython3",
   "version": "3.9.13"
  }
 },
 "nbformat": 4,
 "nbformat_minor": 5
}
